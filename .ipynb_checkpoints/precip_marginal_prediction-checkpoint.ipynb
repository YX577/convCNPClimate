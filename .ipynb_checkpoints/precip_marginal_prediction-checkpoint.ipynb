{
 "cells": [
  {
   "cell_type": "markdown",
   "metadata": {},
   "source": [
    "# Precipitation, marginal distribution\n",
    "Examples of using the trained convCNP model to predict precipitation. This model trained on 3010 sites from the ECA&D dataset (Klein Tank et al., 2002). Here, data is provided from 01/10/2008-31/12/2008 to query the trained model at the 86 held out VALUE stations. "
   ]
  },
  {
   "cell_type": "code",
   "execution_count": 7,
   "metadata": {},
   "outputs": [],
   "source": [
    "import pickle as pkl\n",
    "import random\n",
    "import matplotlib.pyplot as plt\n",
    "import matplotlib.dates as mdates\n",
    "import pandas as pd\n",
    "\n",
    "import plotly\n",
    "import chart_studio.plotly as py\n",
    "import plotly.graph_objs as go\n",
    "\n",
    "from numpy.random import gamma, binomial\n",
    "import numpy as np\n",
    "import scipy\n",
    "import pandas as pd \n",
    "import xarray as xr \n",
    "\n",
    "import torch\n",
    "import torch.nn as nn\n",
    "import torch.nn.functional as F\n",
    "from torch.distributions.normal import Normal"
   ]
  },
  {
   "cell_type": "code",
   "execution_count": 14,
   "metadata": {},
   "outputs": [],
   "source": [
    "from convCNP.models.elev_models import GammaBiasConvCNPElev\n",
    "from convCNP.models.cnn import CNN, ResConvBlock, UNet\n",
    "from convCNP.validation.utils import get_dists, generate_context_mask, get_output, load_model_precip"
   ]
  },
  {
   "cell_type": "markdown",
   "metadata": {},
   "source": [
    "## Load the data"
   ]
  },
  {
   "cell_type": "code",
   "execution_count": 9,
   "metadata": {},
   "outputs": [],
   "source": [
    "device = torch.device('cpu')"
   ]
  },
  {
   "cell_type": "code",
   "execution_count": 16,
   "metadata": {},
   "outputs": [],
   "source": [
    "# ERAI context data (scaled)\n",
    "context_grids = torch.from_numpy(np.load(\"examples/data/erai_2008.npy\")).float()\n",
    "\n",
    "# Context gridpoint coordinates (scaled)\n",
    "x_context = torch.load(\"examples/data/x_context\", map_location=device)\n",
    "\n",
    "# Target coordinates (scaled)\n",
    "x_target = torch.load(\"examples/data/x_target\", map_location=device)\n",
    "\n",
    "# Elevation data at the context points\n",
    "elev = torch.from_numpy(np.load(\"examples/data/tmax_elev_value.npy\")).float()\n",
    "\n",
    "# And observations to compare to \n",
    "tmax_obs = torch.from_numpy(np.load(\"examples/data/obs_2008_target.npy\")).float()\n",
    "precip_obs = torch.from_numpy(np.load(\"examples/data/precip_obs_2008.npy\")).float()\n",
    "\n",
    "# List of stations\n",
    "stations = pd.read_csv(\"examples/data/stations.txt\")"
   ]
  },
  {
   "cell_type": "markdown",
   "metadata": {},
   "source": [
    "Locations of the 86 VALUE stations are shown below"
   ]
  },
  {
   "cell_type": "code",
   "execution_count": 17,
   "metadata": {},
   "outputs": [
    {
     "data": {
      "application/vnd.plotly.v1+json": {
       "config": {
        "plotlyServerURL": "https://plot.ly"
       },
       "data": [
        {
         "lat": [
          47.0831,
          47.2667,
          47.8,
          47.05,
          48.2331,
          50.8,
          45.8167,
          60.175,
          62.4019,
          67.3658,
          47.0667,
          48.8231,
          43.4417,
          53.0464,
          47.8017,
          52.3833,
          47.4219,
          39.6167,
          39.65,
          36.8331,
          56.7667,
          55.85,
          45.4717,
          39.2331,
          41.7831,
          45.3831,
          69.4667,
          62.1,
          59.0267,
          59.3078,
          70.3669,
          54.8831,
          55.7331,
          41.8,
          38.7167,
          46.1331,
          44.5167,
          38.8831,
          36.6667,
          40.7806,
          43.3075,
          40.8206,
          47.55,
          46,
          47.25,
          47.3831,
          55.3167,
          51.7667,
          58.45,
          48.0667,
          62.1167,
          54.75,
          52.25,
          65.8269,
          58.33,
          53.25,
          53.1658,
          44.1167,
          45.8,
          57.7158,
          57.6667,
          54.1764,
          51.1292,
          60.8139,
          43.6231,
          47.1667,
          56.2,
          54.2331,
          62.2333,
          42.8878,
          66.3797,
          46.2167,
          44.55,
          43.1667,
          44.8167,
          51.8,
          44.22,
          48.9733,
          39.5606,
          40.4667,
          50.6008,
          54.6817,
          47.3989,
          49.0433,
          61.17,
          64.6833
         ],
         "lon": [
          15.45,
          11.4,
          13,
          12.95,
          16.35,
          4.3664,
          15.9781,
          24.9478,
          25.6783,
          26.6331,
          2.3667,
          2.3367,
          5.2267,
          8.7992,
          11.0117,
          13.0639,
          10.9867,
          19.9167,
          22.45,
          21.7,
          8.3167,
          10.6,
          9.1892,
          9.05,
          12.5831,
          10.8667,
          25.5031,
          9.05,
          10.53,
          4.8781,
          31.0844,
          23.8331,
          21.0667,
          -6.7331,
          -9.15,
          21.35,
          26.0831,
          -6.8292,
          -4.4881,
          -4.0103,
          -2.0392,
          0.49138999999999994,
          7.5831,
          8.9667,
          9.35,
          8.5667,
          -3.2,
          -1.2667,
          -3.0831,
          -1.7331,
          9.2831,
          17.5331,
          22.25,
          24.1439,
          -6.32,
          -4.5331,
          0.52389,
          3.5831,
          24.15,
          11.9942,
          18.3331,
          7.8931,
          13.7558,
          23.5006,
          1.3781,
          27.6331,
          24.7667,
          23.5167,
          7.4167,
          -8.4106,
          17,
          7.3331,
          15.3667,
          16.45,
          14.9831,
          10.62,
          28.63,
          8.3308,
          2.7367,
          -3.5556,
          8.6506,
          13.4367,
          10.2767,
          12.1031,
          13.26,
          25.0925
         ],
         "marker": {
          "color": [
           366,
           577,
           437,
           3106,
           198,
           100,
           156,
           4,
           139,
           179,
           161,
           75,
           5,
           4,
           977,
           81,
           2964,
           11,
           72,
           51,
           18,
           11,
           150,
           21,
           105,
           68,
           129,
           626,
           6,
           55,
           14,
           77,
           6,
           690,
           77,
           116,
           90,
           185,
           7,
           1894,
           251,
           44,
           316,
           300,
           2502,
           556,
           242,
           63,
           36,
           36,
           952,
           2,
           152,
           5,
           9,
           11,
           68,
           1567,
           444,
           5,
           42,
           4,
           227,
           104,
           151,
           102,
           60,
           133,
           15,
           370,
           430,
           482,
           564,
           20,
           1594,
           1142,
           13,
           116,
           8,
           609,
           203,
           42,
           806,
           365,
           360,
           48
          ]
         },
         "mode": "markers",
         "text": [
          " GRAZ",
          " INNSBRUCK",
          " SALZBURG",
          " SONNBLICK",
          " WIEN",
          " UCCLE",
          " ZAGREB-GRIC",
          " HELSINKI-KAISANIEMI",
          " JYVASKYLA-LENTOASEMA",
          " SODANKYLA",
          " BOURGES",
          " PARIS-14E",
          " MARSEILLE-MARIGNANE",
          " BREMEN",
          " HOHENPEISSENBERG",
          " POTSDAM",
          " ZUGSPITZE",
          " CORFU",
          " LARISSA",
          " METHONI",
          " VESTERVIG",
          " TRANEBJERG",
          " MILAN",
          " CAGLIARI",
          " ROMA-CIAMPINO",
          " VERONA-VILLAFRANCA",
          " KARASJOK",
          " KJOEREMSGRENDE",
          " FAERDER",
          " UTSIRA",
          " VARDOE",
          " KAUNAS",
          " KLAIPEDA",
          " BRAGANCA",
          " LISBOA-GEOFISICA",
          " ARAD",
          " BUCURESTI-BANEASA",
          " BADAJOZ-TALAVERA LA REAL",
          " MALAGA",
          " NAVACERRADA",
          " SAN-SEBASTIAN-IGUELDO",
          " TORTOSA-OBSERVATORIO-DEL-EBRO",
          " BASEL-BINNINGEN",
          " LUGANO",
          " SAENTIS",
          "\tZUERISWITZERLAND",
          " ESKDALEMUIR",
          " OXFORD",
          " WICK",
          " RENNES",
          " FOKSTUA",
          " LEBA",
          " SIEDLCE",
          " HAPARANDA",
          " STORNOWAY",
          " VALLEY",
          " WADDINGTON",
          " MONT-AIGOUAL",
          " SIBIU",
          " GOTEBORG A",
          " VISBY",
          " HELGOLAND",
          " DRESDEN-KLOTZSCHE",
          " JOKIOINEN-JOKIOISTEN",
          " TOULOUSE-BLAGNAC",
          " IASI",
          " BIRZAI",
          " LAZDIJAI",
          " TAFJORD",
          " SANTIAGO-DE-COMPOSTELA",
          " JACKVIK",
          " SION",
          " GOSPIC",
          " HVAR",
          " ZAVIZAN",
          " BROCKEN",
          " CONSTANTA",
          " RHEINSTETTEN",
          " PALMA-DE-MALLORCA",
          " MADRID-BARAJAS",
          " GIESSEN-WETTENBERG",
          " ARKONA",
          " OBERSTDORF",
          " REGENSBURG",
          " SALEN",
          " SIIKAJOKI-REVONLAHTI"
         ],
         "type": "scattergeo"
        }
       ],
       "layout": {
        "geo": {
         "scope": "europe"
        },
        "template": {
         "data": {
          "bar": [
           {
            "error_x": {
             "color": "#2a3f5f"
            },
            "error_y": {
             "color": "#2a3f5f"
            },
            "marker": {
             "line": {
              "color": "#E5ECF6",
              "width": 0.5
             }
            },
            "type": "bar"
           }
          ],
          "barpolar": [
           {
            "marker": {
             "line": {
              "color": "#E5ECF6",
              "width": 0.5
             }
            },
            "type": "barpolar"
           }
          ],
          "carpet": [
           {
            "aaxis": {
             "endlinecolor": "#2a3f5f",
             "gridcolor": "white",
             "linecolor": "white",
             "minorgridcolor": "white",
             "startlinecolor": "#2a3f5f"
            },
            "baxis": {
             "endlinecolor": "#2a3f5f",
             "gridcolor": "white",
             "linecolor": "white",
             "minorgridcolor": "white",
             "startlinecolor": "#2a3f5f"
            },
            "type": "carpet"
           }
          ],
          "choropleth": [
           {
            "colorbar": {
             "outlinewidth": 0,
             "ticks": ""
            },
            "type": "choropleth"
           }
          ],
          "contour": [
           {
            "colorbar": {
             "outlinewidth": 0,
             "ticks": ""
            },
            "colorscale": [
             [
              0,
              "#0d0887"
             ],
             [
              0.1111111111111111,
              "#46039f"
             ],
             [
              0.2222222222222222,
              "#7201a8"
             ],
             [
              0.3333333333333333,
              "#9c179e"
             ],
             [
              0.4444444444444444,
              "#bd3786"
             ],
             [
              0.5555555555555556,
              "#d8576b"
             ],
             [
              0.6666666666666666,
              "#ed7953"
             ],
             [
              0.7777777777777778,
              "#fb9f3a"
             ],
             [
              0.8888888888888888,
              "#fdca26"
             ],
             [
              1,
              "#f0f921"
             ]
            ],
            "type": "contour"
           }
          ],
          "contourcarpet": [
           {
            "colorbar": {
             "outlinewidth": 0,
             "ticks": ""
            },
            "type": "contourcarpet"
           }
          ],
          "heatmap": [
           {
            "colorbar": {
             "outlinewidth": 0,
             "ticks": ""
            },
            "colorscale": [
             [
              0,
              "#0d0887"
             ],
             [
              0.1111111111111111,
              "#46039f"
             ],
             [
              0.2222222222222222,
              "#7201a8"
             ],
             [
              0.3333333333333333,
              "#9c179e"
             ],
             [
              0.4444444444444444,
              "#bd3786"
             ],
             [
              0.5555555555555556,
              "#d8576b"
             ],
             [
              0.6666666666666666,
              "#ed7953"
             ],
             [
              0.7777777777777778,
              "#fb9f3a"
             ],
             [
              0.8888888888888888,
              "#fdca26"
             ],
             [
              1,
              "#f0f921"
             ]
            ],
            "type": "heatmap"
           }
          ],
          "heatmapgl": [
           {
            "colorbar": {
             "outlinewidth": 0,
             "ticks": ""
            },
            "colorscale": [
             [
              0,
              "#0d0887"
             ],
             [
              0.1111111111111111,
              "#46039f"
             ],
             [
              0.2222222222222222,
              "#7201a8"
             ],
             [
              0.3333333333333333,
              "#9c179e"
             ],
             [
              0.4444444444444444,
              "#bd3786"
             ],
             [
              0.5555555555555556,
              "#d8576b"
             ],
             [
              0.6666666666666666,
              "#ed7953"
             ],
             [
              0.7777777777777778,
              "#fb9f3a"
             ],
             [
              0.8888888888888888,
              "#fdca26"
             ],
             [
              1,
              "#f0f921"
             ]
            ],
            "type": "heatmapgl"
           }
          ],
          "histogram": [
           {
            "marker": {
             "colorbar": {
              "outlinewidth": 0,
              "ticks": ""
             }
            },
            "type": "histogram"
           }
          ],
          "histogram2d": [
           {
            "colorbar": {
             "outlinewidth": 0,
             "ticks": ""
            },
            "colorscale": [
             [
              0,
              "#0d0887"
             ],
             [
              0.1111111111111111,
              "#46039f"
             ],
             [
              0.2222222222222222,
              "#7201a8"
             ],
             [
              0.3333333333333333,
              "#9c179e"
             ],
             [
              0.4444444444444444,
              "#bd3786"
             ],
             [
              0.5555555555555556,
              "#d8576b"
             ],
             [
              0.6666666666666666,
              "#ed7953"
             ],
             [
              0.7777777777777778,
              "#fb9f3a"
             ],
             [
              0.8888888888888888,
              "#fdca26"
             ],
             [
              1,
              "#f0f921"
             ]
            ],
            "type": "histogram2d"
           }
          ],
          "histogram2dcontour": [
           {
            "colorbar": {
             "outlinewidth": 0,
             "ticks": ""
            },
            "colorscale": [
             [
              0,
              "#0d0887"
             ],
             [
              0.1111111111111111,
              "#46039f"
             ],
             [
              0.2222222222222222,
              "#7201a8"
             ],
             [
              0.3333333333333333,
              "#9c179e"
             ],
             [
              0.4444444444444444,
              "#bd3786"
             ],
             [
              0.5555555555555556,
              "#d8576b"
             ],
             [
              0.6666666666666666,
              "#ed7953"
             ],
             [
              0.7777777777777778,
              "#fb9f3a"
             ],
             [
              0.8888888888888888,
              "#fdca26"
             ],
             [
              1,
              "#f0f921"
             ]
            ],
            "type": "histogram2dcontour"
           }
          ],
          "mesh3d": [
           {
            "colorbar": {
             "outlinewidth": 0,
             "ticks": ""
            },
            "type": "mesh3d"
           }
          ],
          "parcoords": [
           {
            "line": {
             "colorbar": {
              "outlinewidth": 0,
              "ticks": ""
             }
            },
            "type": "parcoords"
           }
          ],
          "pie": [
           {
            "automargin": true,
            "type": "pie"
           }
          ],
          "scatter": [
           {
            "marker": {
             "colorbar": {
              "outlinewidth": 0,
              "ticks": ""
             }
            },
            "type": "scatter"
           }
          ],
          "scatter3d": [
           {
            "line": {
             "colorbar": {
              "outlinewidth": 0,
              "ticks": ""
             }
            },
            "marker": {
             "colorbar": {
              "outlinewidth": 0,
              "ticks": ""
             }
            },
            "type": "scatter3d"
           }
          ],
          "scattercarpet": [
           {
            "marker": {
             "colorbar": {
              "outlinewidth": 0,
              "ticks": ""
             }
            },
            "type": "scattercarpet"
           }
          ],
          "scattergeo": [
           {
            "marker": {
             "colorbar": {
              "outlinewidth": 0,
              "ticks": ""
             }
            },
            "type": "scattergeo"
           }
          ],
          "scattergl": [
           {
            "marker": {
             "colorbar": {
              "outlinewidth": 0,
              "ticks": ""
             }
            },
            "type": "scattergl"
           }
          ],
          "scattermapbox": [
           {
            "marker": {
             "colorbar": {
              "outlinewidth": 0,
              "ticks": ""
             }
            },
            "type": "scattermapbox"
           }
          ],
          "scatterpolar": [
           {
            "marker": {
             "colorbar": {
              "outlinewidth": 0,
              "ticks": ""
             }
            },
            "type": "scatterpolar"
           }
          ],
          "scatterpolargl": [
           {
            "marker": {
             "colorbar": {
              "outlinewidth": 0,
              "ticks": ""
             }
            },
            "type": "scatterpolargl"
           }
          ],
          "scatterternary": [
           {
            "marker": {
             "colorbar": {
              "outlinewidth": 0,
              "ticks": ""
             }
            },
            "type": "scatterternary"
           }
          ],
          "surface": [
           {
            "colorbar": {
             "outlinewidth": 0,
             "ticks": ""
            },
            "colorscale": [
             [
              0,
              "#0d0887"
             ],
             [
              0.1111111111111111,
              "#46039f"
             ],
             [
              0.2222222222222222,
              "#7201a8"
             ],
             [
              0.3333333333333333,
              "#9c179e"
             ],
             [
              0.4444444444444444,
              "#bd3786"
             ],
             [
              0.5555555555555556,
              "#d8576b"
             ],
             [
              0.6666666666666666,
              "#ed7953"
             ],
             [
              0.7777777777777778,
              "#fb9f3a"
             ],
             [
              0.8888888888888888,
              "#fdca26"
             ],
             [
              1,
              "#f0f921"
             ]
            ],
            "type": "surface"
           }
          ],
          "table": [
           {
            "cells": {
             "fill": {
              "color": "#EBF0F8"
             },
             "line": {
              "color": "white"
             }
            },
            "header": {
             "fill": {
              "color": "#C8D4E3"
             },
             "line": {
              "color": "white"
             }
            },
            "type": "table"
           }
          ]
         },
         "layout": {
          "annotationdefaults": {
           "arrowcolor": "#2a3f5f",
           "arrowhead": 0,
           "arrowwidth": 1
          },
          "coloraxis": {
           "colorbar": {
            "outlinewidth": 0,
            "ticks": ""
           }
          },
          "colorscale": {
           "diverging": [
            [
             0,
             "#8e0152"
            ],
            [
             0.1,
             "#c51b7d"
            ],
            [
             0.2,
             "#de77ae"
            ],
            [
             0.3,
             "#f1b6da"
            ],
            [
             0.4,
             "#fde0ef"
            ],
            [
             0.5,
             "#f7f7f7"
            ],
            [
             0.6,
             "#e6f5d0"
            ],
            [
             0.7,
             "#b8e186"
            ],
            [
             0.8,
             "#7fbc41"
            ],
            [
             0.9,
             "#4d9221"
            ],
            [
             1,
             "#276419"
            ]
           ],
           "sequential": [
            [
             0,
             "#0d0887"
            ],
            [
             0.1111111111111111,
             "#46039f"
            ],
            [
             0.2222222222222222,
             "#7201a8"
            ],
            [
             0.3333333333333333,
             "#9c179e"
            ],
            [
             0.4444444444444444,
             "#bd3786"
            ],
            [
             0.5555555555555556,
             "#d8576b"
            ],
            [
             0.6666666666666666,
             "#ed7953"
            ],
            [
             0.7777777777777778,
             "#fb9f3a"
            ],
            [
             0.8888888888888888,
             "#fdca26"
            ],
            [
             1,
             "#f0f921"
            ]
           ],
           "sequentialminus": [
            [
             0,
             "#0d0887"
            ],
            [
             0.1111111111111111,
             "#46039f"
            ],
            [
             0.2222222222222222,
             "#7201a8"
            ],
            [
             0.3333333333333333,
             "#9c179e"
            ],
            [
             0.4444444444444444,
             "#bd3786"
            ],
            [
             0.5555555555555556,
             "#d8576b"
            ],
            [
             0.6666666666666666,
             "#ed7953"
            ],
            [
             0.7777777777777778,
             "#fb9f3a"
            ],
            [
             0.8888888888888888,
             "#fdca26"
            ],
            [
             1,
             "#f0f921"
            ]
           ]
          },
          "colorway": [
           "#636efa",
           "#EF553B",
           "#00cc96",
           "#ab63fa",
           "#FFA15A",
           "#19d3f3",
           "#FF6692",
           "#B6E880",
           "#FF97FF",
           "#FECB52"
          ],
          "font": {
           "color": "#2a3f5f"
          },
          "geo": {
           "bgcolor": "white",
           "lakecolor": "white",
           "landcolor": "#E5ECF6",
           "showlakes": true,
           "showland": true,
           "subunitcolor": "white"
          },
          "hoverlabel": {
           "align": "left"
          },
          "hovermode": "closest",
          "mapbox": {
           "style": "light"
          },
          "paper_bgcolor": "white",
          "plot_bgcolor": "#E5ECF6",
          "polar": {
           "angularaxis": {
            "gridcolor": "white",
            "linecolor": "white",
            "ticks": ""
           },
           "bgcolor": "#E5ECF6",
           "radialaxis": {
            "gridcolor": "white",
            "linecolor": "white",
            "ticks": ""
           }
          },
          "scene": {
           "xaxis": {
            "backgroundcolor": "#E5ECF6",
            "gridcolor": "white",
            "gridwidth": 2,
            "linecolor": "white",
            "showbackground": true,
            "ticks": "",
            "zerolinecolor": "white"
           },
           "yaxis": {
            "backgroundcolor": "#E5ECF6",
            "gridcolor": "white",
            "gridwidth": 2,
            "linecolor": "white",
            "showbackground": true,
            "ticks": "",
            "zerolinecolor": "white"
           },
           "zaxis": {
            "backgroundcolor": "#E5ECF6",
            "gridcolor": "white",
            "gridwidth": 2,
            "linecolor": "white",
            "showbackground": true,
            "ticks": "",
            "zerolinecolor": "white"
           }
          },
          "shapedefaults": {
           "line": {
            "color": "#2a3f5f"
           }
          },
          "ternary": {
           "aaxis": {
            "gridcolor": "white",
            "linecolor": "white",
            "ticks": ""
           },
           "baxis": {
            "gridcolor": "white",
            "linecolor": "white",
            "ticks": ""
           },
           "bgcolor": "#E5ECF6",
           "caxis": {
            "gridcolor": "white",
            "linecolor": "white",
            "ticks": ""
           }
          },
          "title": {
           "x": 0.05
          },
          "xaxis": {
           "automargin": true,
           "gridcolor": "white",
           "linecolor": "white",
           "ticks": "",
           "title": {
            "standoff": 15
           },
           "zerolinecolor": "white",
           "zerolinewidth": 2
          },
          "yaxis": {
           "automargin": true,
           "gridcolor": "white",
           "linecolor": "white",
           "ticks": "",
           "title": {
            "standoff": 15
           },
           "zerolinecolor": "white",
           "zerolinewidth": 2
          }
         }
        },
        "title": {
         "text": "VALUE stations<br>(Hover for names)"
        }
       }
      },
      "text/html": [
       "<div>\n",
       "        \n",
       "        \n",
       "            <div id=\"9edb2a19-da40-43ec-85d5-0dee720957c1\" class=\"plotly-graph-div\" style=\"height:525px; width:100%;\"></div>\n",
       "            <script type=\"text/javascript\">\n",
       "                require([\"plotly\"], function(Plotly) {\n",
       "                    window.PLOTLYENV=window.PLOTLYENV || {};\n",
       "                    \n",
       "                if (document.getElementById(\"9edb2a19-da40-43ec-85d5-0dee720957c1\")) {\n",
       "                    Plotly.newPlot(\n",
       "                        '9edb2a19-da40-43ec-85d5-0dee720957c1',\n",
       "                        [{\"lat\": [47.0831, 47.2667, 47.8, 47.05, 48.2331, 50.8, 45.8167, 60.175, 62.4019, 67.3658, 47.0667, 48.8231, 43.4417, 53.0464, 47.8017, 52.3833, 47.4219, 39.6167, 39.65, 36.8331, 56.7667, 55.85, 45.4717, 39.2331, 41.7831, 45.3831, 69.4667, 62.1, 59.0267, 59.3078, 70.3669, 54.8831, 55.7331, 41.8, 38.7167, 46.1331, 44.5167, 38.8831, 36.6667, 40.7806, 43.3075, 40.8206, 47.55, 46.0, 47.25, 47.3831, 55.3167, 51.7667, 58.45, 48.0667, 62.1167, 54.75, 52.25, 65.8269, 58.33, 53.25, 53.1658, 44.1167, 45.8, 57.7158, 57.6667, 54.1764, 51.1292, 60.8139, 43.6231, 47.1667, 56.2, 54.2331, 62.2333, 42.8878, 66.3797, 46.2167, 44.55, 43.1667, 44.8167, 51.8, 44.22, 48.9733, 39.5606, 40.4667, 50.6008, 54.6817, 47.3989, 49.0433, 61.17, 64.6833], \"lon\": [15.45, 11.4, 13.0, 12.95, 16.35, 4.3664, 15.9781, 24.9478, 25.6783, 26.6331, 2.3667, 2.3367, 5.2267, 8.7992, 11.0117, 13.0639, 10.9867, 19.9167, 22.45, 21.7, 8.3167, 10.6, 9.1892, 9.05, 12.5831, 10.8667, 25.5031, 9.05, 10.53, 4.8781, 31.0844, 23.8331, 21.0667, -6.7331, -9.15, 21.35, 26.0831, -6.8292, -4.4881, -4.0103, -2.0392, 0.49138999999999994, 7.5831, 8.9667, 9.35, 8.5667, -3.2, -1.2667, -3.0831, -1.7331, 9.2831, 17.5331, 22.25, 24.1439, -6.32, -4.5331, 0.52389, 3.5831, 24.15, 11.9942, 18.3331, 7.8931, 13.7558, 23.5006, 1.3781, 27.6331, 24.7667, 23.5167, 7.4167, -8.4106, 17.0, 7.3331, 15.3667, 16.45, 14.9831, 10.62, 28.63, 8.3308, 2.7367, -3.5556, 8.6506, 13.4367, 10.2767, 12.1031, 13.26, 25.0925], \"marker\": {\"color\": [366, 577, 437, 3106, 198, 100, 156, 4, 139, 179, 161, 75, 5, 4, 977, 81, 2964, 11, 72, 51, 18, 11, 150, 21, 105, 68, 129, 626, 6, 55, 14, 77, 6, 690, 77, 116, 90, 185, 7, 1894, 251, 44, 316, 300, 2502, 556, 242, 63, 36, 36, 952, 2, 152, 5, 9, 11, 68, 1567, 444, 5, 42, 4, 227, 104, 151, 102, 60, 133, 15, 370, 430, 482, 564, 20, 1594, 1142, 13, 116, 8, 609, 203, 42, 806, 365, 360, 48]}, \"mode\": \"markers\", \"text\": [\" GRAZ\", \" INNSBRUCK\", \" SALZBURG\", \" SONNBLICK\", \" WIEN\", \" UCCLE\", \" ZAGREB-GRIC\", \" HELSINKI-KAISANIEMI\", \" JYVASKYLA-LENTOASEMA\", \" SODANKYLA\", \" BOURGES\", \" PARIS-14E\", \" MARSEILLE-MARIGNANE\", \" BREMEN\", \" HOHENPEISSENBERG\", \" POTSDAM\", \" ZUGSPITZE\", \" CORFU\", \" LARISSA\", \" METHONI\", \" VESTERVIG\", \" TRANEBJERG\", \" MILAN\", \" CAGLIARI\", \" ROMA-CIAMPINO\", \" VERONA-VILLAFRANCA\", \" KARASJOK\", \" KJOEREMSGRENDE\", \" FAERDER\", \" UTSIRA\", \" VARDOE\", \" KAUNAS\", \" KLAIPEDA\", \" BRAGANCA\", \" LISBOA-GEOFISICA\", \" ARAD\", \" BUCURESTI-BANEASA\", \" BADAJOZ-TALAVERA LA REAL\", \" MALAGA\", \" NAVACERRADA\", \" SAN-SEBASTIAN-IGUELDO\", \" TORTOSA-OBSERVATORIO-DEL-EBRO\", \" BASEL-BINNINGEN\", \" LUGANO\", \" SAENTIS\", \"\\tZUERISWITZERLAND\", \" ESKDALEMUIR\", \" OXFORD\", \" WICK\", \" RENNES\", \" FOKSTUA\", \" LEBA\", \" SIEDLCE\", \" HAPARANDA\", \" STORNOWAY\", \" VALLEY\", \" WADDINGTON\", \" MONT-AIGOUAL\", \" SIBIU\", \" GOTEBORG A\", \" VISBY\", \" HELGOLAND\", \" DRESDEN-KLOTZSCHE\", \" JOKIOINEN-JOKIOISTEN\", \" TOULOUSE-BLAGNAC\", \" IASI\", \" BIRZAI\", \" LAZDIJAI\", \" TAFJORD\", \" SANTIAGO-DE-COMPOSTELA\", \" JACKVIK\", \" SION\", \" GOSPIC\", \" HVAR\", \" ZAVIZAN\", \" BROCKEN\", \" CONSTANTA\", \" RHEINSTETTEN\", \" PALMA-DE-MALLORCA\", \" MADRID-BARAJAS\", \" GIESSEN-WETTENBERG\", \" ARKONA\", \" OBERSTDORF\", \" REGENSBURG\", \" SALEN\", \" SIIKAJOKI-REVONLAHTI\"], \"type\": \"scattergeo\"}],\n",
       "                        {\"geo\": {\"scope\": \"europe\"}, \"template\": {\"data\": {\"bar\": [{\"error_x\": {\"color\": \"#2a3f5f\"}, \"error_y\": {\"color\": \"#2a3f5f\"}, \"marker\": {\"line\": {\"color\": \"#E5ECF6\", \"width\": 0.5}}, \"type\": \"bar\"}], \"barpolar\": [{\"marker\": {\"line\": {\"color\": \"#E5ECF6\", \"width\": 0.5}}, \"type\": \"barpolar\"}], \"carpet\": [{\"aaxis\": {\"endlinecolor\": \"#2a3f5f\", \"gridcolor\": \"white\", \"linecolor\": \"white\", \"minorgridcolor\": \"white\", \"startlinecolor\": \"#2a3f5f\"}, \"baxis\": {\"endlinecolor\": \"#2a3f5f\", \"gridcolor\": \"white\", \"linecolor\": \"white\", \"minorgridcolor\": \"white\", \"startlinecolor\": \"#2a3f5f\"}, \"type\": \"carpet\"}], \"choropleth\": [{\"colorbar\": {\"outlinewidth\": 0, \"ticks\": \"\"}, \"type\": \"choropleth\"}], \"contour\": [{\"colorbar\": {\"outlinewidth\": 0, \"ticks\": \"\"}, \"colorscale\": [[0.0, \"#0d0887\"], [0.1111111111111111, \"#46039f\"], [0.2222222222222222, \"#7201a8\"], [0.3333333333333333, \"#9c179e\"], [0.4444444444444444, \"#bd3786\"], [0.5555555555555556, \"#d8576b\"], [0.6666666666666666, \"#ed7953\"], [0.7777777777777778, \"#fb9f3a\"], [0.8888888888888888, \"#fdca26\"], [1.0, \"#f0f921\"]], \"type\": \"contour\"}], \"contourcarpet\": [{\"colorbar\": {\"outlinewidth\": 0, \"ticks\": \"\"}, \"type\": \"contourcarpet\"}], \"heatmap\": [{\"colorbar\": {\"outlinewidth\": 0, \"ticks\": \"\"}, \"colorscale\": [[0.0, \"#0d0887\"], [0.1111111111111111, \"#46039f\"], [0.2222222222222222, \"#7201a8\"], [0.3333333333333333, \"#9c179e\"], [0.4444444444444444, \"#bd3786\"], [0.5555555555555556, \"#d8576b\"], [0.6666666666666666, \"#ed7953\"], [0.7777777777777778, \"#fb9f3a\"], [0.8888888888888888, \"#fdca26\"], [1.0, \"#f0f921\"]], \"type\": \"heatmap\"}], \"heatmapgl\": [{\"colorbar\": {\"outlinewidth\": 0, \"ticks\": \"\"}, \"colorscale\": [[0.0, \"#0d0887\"], [0.1111111111111111, \"#46039f\"], [0.2222222222222222, \"#7201a8\"], [0.3333333333333333, \"#9c179e\"], [0.4444444444444444, \"#bd3786\"], [0.5555555555555556, \"#d8576b\"], [0.6666666666666666, \"#ed7953\"], [0.7777777777777778, \"#fb9f3a\"], [0.8888888888888888, \"#fdca26\"], [1.0, \"#f0f921\"]], \"type\": \"heatmapgl\"}], \"histogram\": [{\"marker\": {\"colorbar\": {\"outlinewidth\": 0, \"ticks\": \"\"}}, \"type\": \"histogram\"}], \"histogram2d\": [{\"colorbar\": {\"outlinewidth\": 0, \"ticks\": \"\"}, \"colorscale\": [[0.0, \"#0d0887\"], [0.1111111111111111, \"#46039f\"], [0.2222222222222222, \"#7201a8\"], [0.3333333333333333, \"#9c179e\"], [0.4444444444444444, \"#bd3786\"], [0.5555555555555556, \"#d8576b\"], [0.6666666666666666, \"#ed7953\"], [0.7777777777777778, \"#fb9f3a\"], [0.8888888888888888, \"#fdca26\"], [1.0, \"#f0f921\"]], \"type\": \"histogram2d\"}], \"histogram2dcontour\": [{\"colorbar\": {\"outlinewidth\": 0, \"ticks\": \"\"}, \"colorscale\": [[0.0, \"#0d0887\"], [0.1111111111111111, \"#46039f\"], [0.2222222222222222, \"#7201a8\"], [0.3333333333333333, \"#9c179e\"], [0.4444444444444444, \"#bd3786\"], [0.5555555555555556, \"#d8576b\"], [0.6666666666666666, \"#ed7953\"], [0.7777777777777778, \"#fb9f3a\"], [0.8888888888888888, \"#fdca26\"], [1.0, \"#f0f921\"]], \"type\": \"histogram2dcontour\"}], \"mesh3d\": [{\"colorbar\": {\"outlinewidth\": 0, \"ticks\": \"\"}, \"type\": \"mesh3d\"}], \"parcoords\": [{\"line\": {\"colorbar\": {\"outlinewidth\": 0, \"ticks\": \"\"}}, \"type\": \"parcoords\"}], \"pie\": [{\"automargin\": true, \"type\": \"pie\"}], \"scatter\": [{\"marker\": {\"colorbar\": {\"outlinewidth\": 0, \"ticks\": \"\"}}, \"type\": \"scatter\"}], \"scatter3d\": [{\"line\": {\"colorbar\": {\"outlinewidth\": 0, \"ticks\": \"\"}}, \"marker\": {\"colorbar\": {\"outlinewidth\": 0, \"ticks\": \"\"}}, \"type\": \"scatter3d\"}], \"scattercarpet\": [{\"marker\": {\"colorbar\": {\"outlinewidth\": 0, \"ticks\": \"\"}}, \"type\": \"scattercarpet\"}], \"scattergeo\": [{\"marker\": {\"colorbar\": {\"outlinewidth\": 0, \"ticks\": \"\"}}, \"type\": \"scattergeo\"}], \"scattergl\": [{\"marker\": {\"colorbar\": {\"outlinewidth\": 0, \"ticks\": \"\"}}, \"type\": \"scattergl\"}], \"scattermapbox\": [{\"marker\": {\"colorbar\": {\"outlinewidth\": 0, \"ticks\": \"\"}}, \"type\": \"scattermapbox\"}], \"scatterpolar\": [{\"marker\": {\"colorbar\": {\"outlinewidth\": 0, \"ticks\": \"\"}}, \"type\": \"scatterpolar\"}], \"scatterpolargl\": [{\"marker\": {\"colorbar\": {\"outlinewidth\": 0, \"ticks\": \"\"}}, \"type\": \"scatterpolargl\"}], \"scatterternary\": [{\"marker\": {\"colorbar\": {\"outlinewidth\": 0, \"ticks\": \"\"}}, \"type\": \"scatterternary\"}], \"surface\": [{\"colorbar\": {\"outlinewidth\": 0, \"ticks\": \"\"}, \"colorscale\": [[0.0, \"#0d0887\"], [0.1111111111111111, \"#46039f\"], [0.2222222222222222, \"#7201a8\"], [0.3333333333333333, \"#9c179e\"], [0.4444444444444444, \"#bd3786\"], [0.5555555555555556, \"#d8576b\"], [0.6666666666666666, \"#ed7953\"], [0.7777777777777778, \"#fb9f3a\"], [0.8888888888888888, \"#fdca26\"], [1.0, \"#f0f921\"]], \"type\": \"surface\"}], \"table\": [{\"cells\": {\"fill\": {\"color\": \"#EBF0F8\"}, \"line\": {\"color\": \"white\"}}, \"header\": {\"fill\": {\"color\": \"#C8D4E3\"}, \"line\": {\"color\": \"white\"}}, \"type\": \"table\"}]}, \"layout\": {\"annotationdefaults\": {\"arrowcolor\": \"#2a3f5f\", \"arrowhead\": 0, \"arrowwidth\": 1}, \"coloraxis\": {\"colorbar\": {\"outlinewidth\": 0, \"ticks\": \"\"}}, \"colorscale\": {\"diverging\": [[0, \"#8e0152\"], [0.1, \"#c51b7d\"], [0.2, \"#de77ae\"], [0.3, \"#f1b6da\"], [0.4, \"#fde0ef\"], [0.5, \"#f7f7f7\"], [0.6, \"#e6f5d0\"], [0.7, \"#b8e186\"], [0.8, \"#7fbc41\"], [0.9, \"#4d9221\"], [1, \"#276419\"]], \"sequential\": [[0.0, \"#0d0887\"], [0.1111111111111111, \"#46039f\"], [0.2222222222222222, \"#7201a8\"], [0.3333333333333333, \"#9c179e\"], [0.4444444444444444, \"#bd3786\"], [0.5555555555555556, \"#d8576b\"], [0.6666666666666666, \"#ed7953\"], [0.7777777777777778, \"#fb9f3a\"], [0.8888888888888888, \"#fdca26\"], [1.0, \"#f0f921\"]], \"sequentialminus\": [[0.0, \"#0d0887\"], [0.1111111111111111, \"#46039f\"], [0.2222222222222222, \"#7201a8\"], [0.3333333333333333, \"#9c179e\"], [0.4444444444444444, \"#bd3786\"], [0.5555555555555556, \"#d8576b\"], [0.6666666666666666, \"#ed7953\"], [0.7777777777777778, \"#fb9f3a\"], [0.8888888888888888, \"#fdca26\"], [1.0, \"#f0f921\"]]}, \"colorway\": [\"#636efa\", \"#EF553B\", \"#00cc96\", \"#ab63fa\", \"#FFA15A\", \"#19d3f3\", \"#FF6692\", \"#B6E880\", \"#FF97FF\", \"#FECB52\"], \"font\": {\"color\": \"#2a3f5f\"}, \"geo\": {\"bgcolor\": \"white\", \"lakecolor\": \"white\", \"landcolor\": \"#E5ECF6\", \"showlakes\": true, \"showland\": true, \"subunitcolor\": \"white\"}, \"hoverlabel\": {\"align\": \"left\"}, \"hovermode\": \"closest\", \"mapbox\": {\"style\": \"light\"}, \"paper_bgcolor\": \"white\", \"plot_bgcolor\": \"#E5ECF6\", \"polar\": {\"angularaxis\": {\"gridcolor\": \"white\", \"linecolor\": \"white\", \"ticks\": \"\"}, \"bgcolor\": \"#E5ECF6\", \"radialaxis\": {\"gridcolor\": \"white\", \"linecolor\": \"white\", \"ticks\": \"\"}}, \"scene\": {\"xaxis\": {\"backgroundcolor\": \"#E5ECF6\", \"gridcolor\": \"white\", \"gridwidth\": 2, \"linecolor\": \"white\", \"showbackground\": true, \"ticks\": \"\", \"zerolinecolor\": \"white\"}, \"yaxis\": {\"backgroundcolor\": \"#E5ECF6\", \"gridcolor\": \"white\", \"gridwidth\": 2, \"linecolor\": \"white\", \"showbackground\": true, \"ticks\": \"\", \"zerolinecolor\": \"white\"}, \"zaxis\": {\"backgroundcolor\": \"#E5ECF6\", \"gridcolor\": \"white\", \"gridwidth\": 2, \"linecolor\": \"white\", \"showbackground\": true, \"ticks\": \"\", \"zerolinecolor\": \"white\"}}, \"shapedefaults\": {\"line\": {\"color\": \"#2a3f5f\"}}, \"ternary\": {\"aaxis\": {\"gridcolor\": \"white\", \"linecolor\": \"white\", \"ticks\": \"\"}, \"baxis\": {\"gridcolor\": \"white\", \"linecolor\": \"white\", \"ticks\": \"\"}, \"bgcolor\": \"#E5ECF6\", \"caxis\": {\"gridcolor\": \"white\", \"linecolor\": \"white\", \"ticks\": \"\"}}, \"title\": {\"x\": 0.05}, \"xaxis\": {\"automargin\": true, \"gridcolor\": \"white\", \"linecolor\": \"white\", \"ticks\": \"\", \"title\": {\"standoff\": 15}, \"zerolinecolor\": \"white\", \"zerolinewidth\": 2}, \"yaxis\": {\"automargin\": true, \"gridcolor\": \"white\", \"linecolor\": \"white\", \"ticks\": \"\", \"title\": {\"standoff\": 15}, \"zerolinecolor\": \"white\", \"zerolinewidth\": 2}}}, \"title\": {\"text\": \"VALUE stations<br>(Hover for names)\"}},\n",
       "                        {\"responsive\": true}\n",
       "                    ).then(function(){\n",
       "                            \n",
       "var gd = document.getElementById('9edb2a19-da40-43ec-85d5-0dee720957c1');\n",
       "var x = new MutationObserver(function (mutations, observer) {{\n",
       "        var display = window.getComputedStyle(gd).display;\n",
       "        if (!display || display === 'none') {{\n",
       "            console.log([gd, 'removed!']);\n",
       "            Plotly.purge(gd);\n",
       "            observer.disconnect();\n",
       "        }}\n",
       "}});\n",
       "\n",
       "// Listen for the removal of the full notebook cells\n",
       "var notebookContainer = gd.closest('#notebook-container');\n",
       "if (notebookContainer) {{\n",
       "    x.observe(notebookContainer, {childList: true});\n",
       "}}\n",
       "\n",
       "// Listen for the clearing of the current output cell\n",
       "var outputEl = gd.closest('.output');\n",
       "if (outputEl) {{\n",
       "    x.observe(outputEl, {childList: true});\n",
       "}}\n",
       "\n",
       "                        })\n",
       "                };\n",
       "                });\n",
       "            </script>\n",
       "        </div>"
      ]
     },
     "metadata": {},
     "output_type": "display_data"
    }
   ],
   "source": [
    "import plotly.express as px\n",
    "\n",
    "fig = go.Figure(data=go.Scattergeo(\n",
    "        lon = stations[' longitude'],\n",
    "        lat = stations[' latitude'],\n",
    "        text = stations[' name'],\n",
    "        mode = 'markers',\n",
    "        marker_color = stations[' altitude'],\n",
    "        ))\n",
    "\n",
    "fig.update_layout(\n",
    "        title = 'VALUE stations<br>(Hover for names)',\n",
    "        geo_scope='europe',\n",
    "    )\n",
    "fig.show()"
   ]
  },
  {
   "cell_type": "markdown",
   "metadata": {},
   "source": [
    "## Load the model"
   ]
  },
  {
   "cell_type": "code",
   "execution_count": 18,
   "metadata": {},
   "outputs": [],
   "source": [
    "def get_value_pr_gamma_stochastic(p):\n",
    "    \"\"\"\n",
    "    For the predictions make actual predicted values as the \n",
    "    median of the gamma, stochastic sampling\n",
    "    \"\"\"\n",
    "    \n",
    "    output = np.zeros((p.shape[0], p.shape[1]))\n",
    "\n",
    "    for st in range(p.shape[1]):\n",
    "        yn = binomial(1, p[:,st,0])\n",
    "        ratio = gamma(p[:,st,1], 1/p[:,st,2])\n",
    "        output[:, st][yn>0.5] = ratio[yn>0.5]\n",
    "\n",
    "    return output\n",
    "\n",
    "def get_value_pr_gamma(p):\n",
    "    \"\"\"\n",
    "    For the predictions make actual predicted values as the \n",
    "    median of the gamma\n",
    "    \"\"\"\n",
    "    \n",
    "    output = np.zeros((p.shape[0], p.shape[1]))\n",
    "\n",
    "    for st in range(p.shape[1]):\n",
    "        ratio = p[:,st,1]/p[:,st,2]\n",
    "        output[:, st][p[:,st,0]>0.5] = ratio[p[:,st,0]>0.5]\n",
    "\n",
    "    return output"
   ]
  },
  {
   "cell_type": "code",
   "execution_count": 19,
   "metadata": {},
   "outputs": [],
   "source": [
    "def plot_at_station(name, stations, predictions, obs):\n",
    "    \"\"\"\n",
    "    Plot predictions vs. observations at a given station\n",
    "    \"\"\"\n",
    "    # Get station index\n",
    "    station_ind = stations[stations[\" name\"]==\" \"+name].index.values[0]\n",
    "    \n",
    "    plt.style.use('seaborn-white')\n",
    "    pred = predictions[:,station_ind]\n",
    "    obs = obs[:, station_ind]\n",
    "    x = pd.date_range(start=\"2008-10-01\",end=\"2008-12-30\").values\n",
    "    plt.figure(figsize=(9, 8), dpi= 80, facecolor='w', edgecolor='k')\n",
    "    plt.plot(x,obs, label=\"observed\", color=\"r\")\n",
    "    plt.plot(x,pred, label=\"predicted\", color=\"b\")\n",
    "    plt.title(\"Precipitation ({})\".format(name))\n",
    "    \n",
    "    locator = mdates.MonthLocator()  # every month\n",
    "    fmt = mdates.DateFormatter(\"%d/%m/%y\")\n",
    "    X = plt.gca().xaxis\n",
    "    X.set_major_locator(locator)\n",
    "    X.set_major_formatter(fmt)\n",
    "    plt.legend(loc=\"upper right\")\n",
    "    plt.show()"
   ]
  },
  {
   "cell_type": "code",
   "execution_count": 31,
   "metadata": {},
   "outputs": [],
   "source": [
    "dists = get_dists(x_target, x_context[:, :, 0], x_context[:, :, 1])\n",
    "path = 'examples/trained_models/precip_marginal_ecad_train'\n",
    "model = load_model_precip(path, 25, x_context, x_target, device)\n",
    "predictions = get_output(model, context_grids, dists, elev.float())"
   ]
  },
  {
   "cell_type": "code",
   "execution_count": 32,
   "metadata": {},
   "outputs": [],
   "source": [
    "# Get values taking mean of predicted distribution\n",
    "pred = get_value_pr_gamma(predictions)\n",
    "\n",
    "# Get values sampling from predicted distribution\n",
    "#pred = get_value_pr_gamma_stochastic(predictions)"
   ]
  },
  {
   "cell_type": "markdown",
   "metadata": {},
   "source": [
    "## Plot predictions at a given station"
   ]
  },
  {
   "cell_type": "markdown",
   "metadata": {},
   "source": [
    "Comparison between observations and model predictions can be plotted using the plot_at_station function. As an example, plot the maximum temperature at Graz, Austria"
   ]
  },
  {
   "cell_type": "code",
   "execution_count": 35,
   "metadata": {},
   "outputs": [
    {
     "data": {
      "image/png": "[encoded data removed]",
      "text/plain": [
       "<Figure size 720x640 with 1 Axes>"
      ]
     },
     "metadata": {},
     "output_type": "display_data"
    }
   ],
   "source": [
    "plot_at_station(\"KAUNAS\", stations, predictions, precip_obs)"
   ]
  },
  {
   "cell_type": "code",
   "execution_count": 37,
   "metadata": {},
   "outputs": [
    {
     "data": {
      "text/plain": [
       "(91, 86)"
      ]
     },
     "execution_count": 37,
     "metadata": {},
     "output_type": "execute_result"
    }
   ],
   "source": [
    "pred.shape"
   ]
  },
  {
   "cell_type": "code",
   "execution_count": null,
   "metadata": {},
   "outputs": [],
   "source": []
  }
 ],
 "metadata": {
  "kernelspec": {
   "display_name": "Python 3.7.3 64-bit",
   "language": "python",
   "name": "python37364bitc4e732640a4d45fb9daf9b1bf3e97008"
  },
  "language_info": {
   "codemirror_mode": {
    "name": "ipython",
    "version": 3
   },
   "file_extension": ".py",
   "mimetype": "text/x-python",
   "name": "python",
   "nbconvert_exporter": "python",
   "pygments_lexer": "ipython3",
   "version": "3.7.3"
  }
 },
 "nbformat": 4,
 "nbformat_minor": 2
}
